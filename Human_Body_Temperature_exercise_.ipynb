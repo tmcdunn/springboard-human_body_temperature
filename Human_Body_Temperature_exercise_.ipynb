{
 "cells": [
  {
   "cell_type": "markdown",
   "metadata": {},
   "source": [
    "# What is the True Normal Human Body Temperature? \n",
    "\n",
    "Tamara Monge\n",
    "\n",
    "\n",
    "#### Background\n",
    "\n",
    "The mean normal body temperature was held to be 37$^{\\circ}$C or 98.6$^{\\circ}$F for more than 120 years since it was first conceptualized and reported by Carl Wunderlich in a famous 1868 book. But, is this value statistically correct?"
   ]
  },
  {
   "cell_type": "markdown",
   "metadata": {},
   "source": [
    "<h3>Exercises</h3>\n",
    "\n",
    "<p>In this exercise, you will analyze a dataset of human body temperatures and employ the concepts of hypothesis testing, confidence intervals, and statistical significance.</p>\n",
    "\n",
    "<p>Answer the following questions <b>in this notebook below and submit to your Github account</b>.</p> \n",
    "\n",
    "<ol>\n",
    "<li>  Is the distribution of body temperatures normal? \n",
    "    <ul>\n",
    "    <li> Although this is not a requirement for CLT to hold (read CLT carefully), it gives us some peace of mind that the population may also be normally distributed if we assume that this sample is representative of the population.\n",
    "    </ul>\n",
    "<li>  Is the sample size large? Are the observations independent?\n",
    "    <ul>\n",
    "    <li> Remember that this is a condition for the CLT, and hence the statistical tests we are using, to apply.\n",
    "    </ul>\n",
    "<li>  Is the true population mean really 98.6 degrees F?\n",
    "    <ul>\n",
    "    <li> Would you use a one-sample or two-sample test? Why?\n",
    "    <li> In this situation, is it appropriate to use the $t$ or $z$ statistic? \n",
    "    <li> Now try using the other test. How is the result be different? Why?\n",
    "    </ul>\n",
    "<li>  Draw a small sample of size 10 from the data and repeat both tests. \n",
    "    <ul>\n",
    "    <li> Which one is the correct one to use? \n",
    "    <li> What do you notice? What does this tell you about the difference in application of the $t$ and $z$ statistic?\n",
    "    </ul>\n",
    "<li>  At what temperature should we consider someone's temperature to be \"abnormal\"?\n",
    "    <ul>\n",
    "    <li> Start by computing the margin of error and confidence interval.\n",
    "    </ul>\n",
    "<li>  Is there a significant difference between males and females in normal temperature?\n",
    "    <ul>\n",
    "    <li> What test did you use and why?\n",
    "    <li> Write a story with your conclusion in the context of the original problem.\n",
    "    </ul>\n",
    "</ol>\n",
    "\n",
    "You can include written notes in notebook cells using Markdown: \n",
    "   - In the control panel at the top, choose Cell > Cell Type > Markdown\n",
    "   - Markdown syntax: http://nestacms.com/docs/creating-content/markdown-cheat-sheet\n",
    "\n",
    "#### Resources\n",
    "\n",
    "+ Information and data sources: http://www.amstat.org/publications/jse/datasets/normtemp.txt, http://www.amstat.org/publications/jse/jse_data_archive.htm\n",
    "+ Markdown syntax: http://nestacms.com/docs/creating-content/markdown-cheat-sheet\n",
    "\n",
    "****"
   ]
  },
  {
   "cell_type": "code",
   "execution_count": 1,
   "metadata": {
    "collapsed": true
   },
   "outputs": [],
   "source": [
    "import pandas as pd\n",
    "import numpy as np\n",
    "import matplotlib.pyplot as plt\n",
    "from IPython.core.interactiveshell import InteractiveShell\n",
    "%matplotlib inline \n",
    "InteractiveShell.ast_node_interactivity = \"all\" \n",
    "df = pd.read_csv('data/human_body_temperature.csv')\n"
   ]
  },
  {
   "cell_type": "code",
   "execution_count": 2,
   "metadata": {},
   "outputs": [
    {
     "name": "stdout",
     "output_type": "stream",
     "text": [
      "<class 'pandas.core.frame.DataFrame'>\n",
      "RangeIndex: 130 entries, 0 to 129\n",
      "Data columns (total 3 columns):\n",
      "temperature    130 non-null float64\n",
      "gender         130 non-null object\n",
      "heart_rate     130 non-null float64\n",
      "dtypes: float64(2), object(1)\n",
      "memory usage: 3.1+ KB\n"
     ]
    },
    {
     "data": {
      "text/html": [
       "<div>\n",
       "<style scoped>\n",
       "    .dataframe tbody tr th:only-of-type {\n",
       "        vertical-align: middle;\n",
       "    }\n",
       "\n",
       "    .dataframe tbody tr th {\n",
       "        vertical-align: top;\n",
       "    }\n",
       "\n",
       "    .dataframe thead th {\n",
       "        text-align: right;\n",
       "    }\n",
       "</style>\n",
       "<table border=\"1\" class=\"dataframe\">\n",
       "  <thead>\n",
       "    <tr style=\"text-align: right;\">\n",
       "      <th></th>\n",
       "      <th>temperature</th>\n",
       "      <th>gender</th>\n",
       "      <th>heart_rate</th>\n",
       "    </tr>\n",
       "  </thead>\n",
       "  <tbody>\n",
       "    <tr>\n",
       "      <th>0</th>\n",
       "      <td>99.3</td>\n",
       "      <td>F</td>\n",
       "      <td>68.0</td>\n",
       "    </tr>\n",
       "    <tr>\n",
       "      <th>1</th>\n",
       "      <td>98.4</td>\n",
       "      <td>F</td>\n",
       "      <td>81.0</td>\n",
       "    </tr>\n",
       "    <tr>\n",
       "      <th>2</th>\n",
       "      <td>97.8</td>\n",
       "      <td>M</td>\n",
       "      <td>73.0</td>\n",
       "    </tr>\n",
       "    <tr>\n",
       "      <th>3</th>\n",
       "      <td>99.2</td>\n",
       "      <td>F</td>\n",
       "      <td>66.0</td>\n",
       "    </tr>\n",
       "    <tr>\n",
       "      <th>4</th>\n",
       "      <td>98.0</td>\n",
       "      <td>F</td>\n",
       "      <td>73.0</td>\n",
       "    </tr>\n",
       "  </tbody>\n",
       "</table>\n",
       "</div>"
      ],
      "text/plain": [
       "   temperature gender  heart_rate\n",
       "0         99.3      F        68.0\n",
       "1         98.4      F        81.0\n",
       "2         97.8      M        73.0\n",
       "3         99.2      F        66.0\n",
       "4         98.0      F        73.0"
      ]
     },
     "execution_count": 2,
     "metadata": {},
     "output_type": "execute_result"
    },
    {
     "data": {
      "text/plain": [
       "(130, 3)"
      ]
     },
     "execution_count": 2,
     "metadata": {},
     "output_type": "execute_result"
    }
   ],
   "source": [
    "# Examine the dataframe\n",
    "df.info()\n",
    "df.head()\n",
    "df.shape\n"
   ]
  },
  {
   "cell_type": "markdown",
   "metadata": {},
   "source": [
    "### 1. Is the distribution of body temperatures normal? \n",
    "*Although this is not a requirement for CLT to hold (read CLT carefully), it gives us some peace of mind that the population may also be normally distributed if we assume that this sample is representative of the population.*\n",
    "\n",
    "To answer this question we will look at the PDF and ECDF of both the temperature data and a normal distribution computed from the empirical mean and standard deviation. "
   ]
  },
  {
   "cell_type": "code",
   "execution_count": 3,
   "metadata": {},
   "outputs": [
    {
     "name": "stdout",
     "output_type": "stream",
     "text": [
      "Mean temperature =  98.24923076923078 deg. F +/-  0.7303577789050377 deg. F\n"
     ]
    }
   ],
   "source": [
    "# Compute empirical mean and standard deviation\n",
    "n = len(df['temperature']) # number of samples\n",
    "\n",
    "x_bar = np.mean(df['temperature']) # sample mean\n",
    "\n",
    "s = np.std(df['temperature']) # sample standard deviation\n",
    "\n",
    "print('Mean temperature = ', x_bar, 'deg. F +/- ', s, 'deg. F')\n"
   ]
  },
  {
   "cell_type": "code",
   "execution_count": 4,
   "metadata": {
    "collapsed": true
   },
   "outputs": [],
   "source": [
    "# Sample a normal distribution that has the sample mean and sample standard deviation\n",
    "samples_normal = np.random.normal(x_bar, s, size=10000)\n"
   ]
  },
  {
   "cell_type": "code",
   "execution_count": 5,
   "metadata": {
    "collapsed": true
   },
   "outputs": [],
   "source": [
    "# Define function to compute ECDF\n",
    "def ecdf(data):\n",
    "    \"\"\"Compute ECDF for a one-dimensional array of measurements.\"\"\"\n",
    "    # Number of data points: n\n",
    "    n = len(data)\n",
    "    # x-data for the ECDF: x\n",
    "    x = np.sort(data)\n",
    "    # y-data for the ECDF: y\n",
    "    y = np.arange(1, n+1) / n\n",
    "    return x, y\n"
   ]
  },
  {
   "cell_type": "code",
   "execution_count": 6,
   "metadata": {
    "collapsed": true
   },
   "outputs": [],
   "source": [
    "# Compute the ecdf of the data and the normal distribution\n",
    "x_temp, y_temp = ecdf(df['temperature'])\n",
    "x_normal, y_normal = ecdf(samples_normal) \n"
   ]
  },
  {
   "cell_type": "code",
   "execution_count": 7,
   "metadata": {
    "scrolled": false
   },
   "outputs": [
    {
     "data": {
      "image/png": "[encoded data removed]",
      "text/plain": [
       "<matplotlib.figure.Figure at 0x10a2f4f28>"
      ]
     },
     "metadata": {},
     "output_type": "display_data"
    }
   ],
   "source": [
    "# Plot the PDFs\n",
    "fig = plt.figure(figsize=(8, 12))\n",
    "_ = plt.subplot(3,1,1)\n",
    "_ = plt.hist(samples_normal, bins=30, normed=True, histtype='step')\n",
    "_ = plt.hist(df['temperature'], bins=30, normed=True, histtype='step')\n",
    "_ = plt.xlabel('Temperature ($^\\circ$F)')\n",
    "_ = plt.ylabel('PDF')\n",
    "_ = plt.title('30 bins')\n",
    "_ = plt.legend(('normal distribution', 'data'))\n",
    "\n",
    "_ = plt.subplot(3,1,2)\n",
    "_ = plt.hist(samples_normal, bins=20, normed=True, histtype='step')\n",
    "_ = plt.hist(df['temperature'], bins=20, normed=True, histtype='step')\n",
    "_ = plt.xlabel('Temperature ($^\\circ$F)')\n",
    "_ = plt.ylabel('PDF')\n",
    "_ = plt.title('20 bins')\n",
    "_ = plt.legend(('normal distribution', 'data'))\n",
    "\n",
    "_ = plt.subplot(3,1,3)\n",
    "_ = plt.hist(samples_normal, bins=10, normed=True, histtype='step')\n",
    "_ = plt.hist(df['temperature'], bins=10, normed=True, histtype='step')\n",
    "_ = plt.xlabel('Temperature ($^\\circ$F)')\n",
    "_ = plt.ylabel('PDF')\n",
    "_ = plt.title('10 bins')\n",
    "_ = plt.legend(('normal distribution', 'data'))\n",
    "_ = plt.tight_layout()\n"
   ]
  },
  {
   "cell_type": "code",
   "execution_count": 8,
   "metadata": {},
   "outputs": [
    {
     "data": {
      "image/png": "[encoded data removed]",
      "text/plain": [
       "<matplotlib.figure.Figure at 0x10a2ccb70>"
      ]
     },
     "metadata": {},
     "output_type": "display_data"
    }
   ],
   "source": [
    "# Plot the ECDFs\n",
    "fig = plt.figure(figsize=(8, 5))\n",
    "_ = plt.plot(x_normal, y_normal)\n",
    "_ = plt.plot(x_temp, y_temp, marker='.', linestyle='none')\n",
    "_ = plt.ylabel('ECDF')\n",
    "_ = plt.xlabel('Temperature ($^\\circ$F)')\n",
    "_ = plt.legend(('normal distribution', 'data'))\n"
   ]
  },
  {
   "cell_type": "markdown",
   "metadata": {},
   "source": [
    "From the PDFs above one can see that the human body temperatures are in fact normally distributed. This fact is most evident in the PDFs created using 10 and 20 bins. The ECDFs further confirm that the data are normally distributed."
   ]
  },
  {
   "cell_type": "markdown",
   "metadata": {},
   "source": [
    "### 2.  Is the sample size large? Are the observations independent? \n",
    "*Remember that this is a condition for the CLT, and hence the statistical tests we are using, to apply.*\n",
    "\n",
    "The sample size, *n* = 130, is large (*n* > 30). \n",
    "\n",
    "Yes, the observations are independent because each observation is taken from a different person and the temperature of one subject is not influenced by the temperature of another subject. "
   ]
  },
  {
   "cell_type": "markdown",
   "metadata": {},
   "source": [
    "### 3. Is the true population mean 98.6 $^\\circ$F? \n",
    "*Would you use a one-sample or two-sample test? Why? In this situation, is it appropriate to use the $t$ or $z$ statistic? Now try using the other test. How is the result be different? Why?*"
   ]
  },
  {
   "cell_type": "markdown",
   "metadata": {},
   "source": [
    "I would use a one-sample test because we have one set of data which we are comparing to a single value. \n",
    "\n",
    "We have a large sample size but we do not know the population standard deviation, therefore in this situation it is appropriate to use the $t$-statistic."
   ]
  },
  {
   "cell_type": "code",
   "execution_count": 9,
   "metadata": {},
   "outputs": [
    {
     "name": "stdout",
     "output_type": "stream",
     "text": [
      "t-statistic for the observations: -5.47592520208\n",
      "p-value: 0.00e+00\n"
     ]
    }
   ],
   "source": [
    "# Null hypothesis: The true population mean is equal to the conventional mean,  98.6 deg F. \n",
    "# Test statistic: t-statistic\n",
    "\n",
    "# Shift the data so the mean is equal to the the conventional mean\n",
    "mu = 98.6\n",
    "temp_shifted = df['temperature'] - x_bar + mu\n",
    "\n",
    "\n",
    "# Define test statistic function\n",
    "def t_stat(data, mu=98.6):\n",
    "    \"\"\"Calculate t-statistic\"\"\"\n",
    "    return (np.mean(data) - mu) / (np.std(data) / np.sqrt(len(data)))\n",
    "\n",
    "\n",
    "# Compute test statistic for data\n",
    "t_obs = t_stat(df['temperature'], mu)\n",
    "\n",
    "\n",
    "# Define bootstrapping functions\n",
    "def bootstrap_replicate_1d(data, func):\n",
    "    \"\"\"Draw one bootstrap replicate for a 1-d array of data\"\"\"\n",
    "    return func(np.random.choice(data, size=len(data)))\n",
    "\n",
    "def draw_bs_reps(data, func, size=1):\n",
    "    \"\"\"Draw (size) number of bootstrap replicates.\"\"\"\n",
    "    bs_replicates = np.empty(size)\n",
    "    for i in range(size):\n",
    "        bs_replicates[i] = bootstrap_replicate_1d(data, func)\n",
    "    return bs_replicates\n",
    "\n",
    "\n",
    "# Simulate data acquisition under the null hypothesis by bootstrapping the shifted data\n",
    "bs_t_reps = draw_bs_reps(temp_shifted, t_stat, size=10000)\n",
    "\n",
    "\n",
    "# Compute the p-value\n",
    "p_t_value = np.sum(np.abs(bs_t_reps) >= np.abs(t_obs)) / len(bs_t_reps)\n",
    "\n",
    "\n",
    "print('t-statistic for the observations:', t_obs)\n",
    "print('p-value: {:.2e}'.format(p_t_value))"
   ]
  },
  {
   "cell_type": "markdown",
   "metadata": {},
   "source": [
    "The $t$-statistic = -5.476. The *p*-value = 0, indicating that in 10,000 trials, not a single trial produced a sample mean as extreme as our observed sample mean. Therefore, we must reject the null hypothesis and conclude that the true population mean is *not* 98.6$^\\circ$F. "
   ]
  },
  {
   "cell_type": "code",
   "execution_count": 10,
   "metadata": {},
   "outputs": [
    {
     "name": "stdout",
     "output_type": "stream",
     "text": [
      "z-statistic for the observations: -5.47592520208\n",
      "p-value: 0.00e+00\n"
     ]
    }
   ],
   "source": [
    "# Repeat bootstrapping, but this time use z-statistic\n",
    "\n",
    "# Define z-statistic function\n",
    "def z_stat(data, mu=98.6, sigma=0.7303577789050377):\n",
    "    \"\"\"Calculate z-statistic\"\"\"\n",
    "    return (np.mean(data) - mu) / (sigma / np.sqrt(len(data)))\n",
    "\n",
    "\n",
    "# Compute test statistic for data\n",
    "z_obs = z_stat(df['temperature'], mu) \n",
    "\n",
    "\n",
    "# Simulate data acquisition under the null hypothesis by bootstrapping the shifted data\n",
    "bs_z_reps = draw_bs_reps(temp_shifted, z_stat, size=10000)\n",
    "\n",
    "\n",
    "# Compute the p-value\n",
    "p_z_value = np.sum(np.abs(bs_z_reps) >= np.abs(z_obs)) / len(bs_z_reps)\n",
    "\n",
    "\n",
    "print('z-statistic for the observations:', z_obs)\n",
    "print('p-value: {:.2e}'.format(p_z_value))\n"
   ]
  },
  {
   "cell_type": "markdown",
   "metadata": {},
   "source": [
    "The $z$-statistic has the same value as the $t$-statistic. This result is expected because the population standard deviation is still unknown which means we must use the sample standard deviation as an approximation of the population standard deviation in our $z$-statistic computation. It is also expected because we have a large sample size and as *n* increases, the $t$-statistic approaches the $z$-statistic. "
   ]
  },
  {
   "cell_type": "markdown",
   "metadata": {},
   "source": [
    "###   4. Draw a small sample of size 10 from the data and repeat both tests. \n",
    "*Which one is the correct one to use? What do you notice? What does this tell you about the difference in application of the $t$ and $z$ statistic?*"
   ]
  },
  {
   "cell_type": "code",
   "execution_count": 11,
   "metadata": {},
   "outputs": [
    {
     "name": "stdout",
     "output_type": "stream",
     "text": [
      "t-statistic for n=10: -3.64430281749\n",
      "p-value: 5.70e-03\n",
      "\n",
      "z-statistic for n=10: -2.25147787945\n",
      "p-value: 4.00e-04\n"
     ]
    }
   ],
   "source": [
    "# Draw 10 samples from the data\n",
    "sample = np.random.choice(df['temperature'], size=10)\n",
    "\n",
    "\n",
    "# Shift the data \n",
    "sample_shifted = sample - np.mean(sample) + mu\n",
    "\n",
    "\n",
    "# Compute t-statistic\n",
    "t_obs2 = t_stat(sample)\n",
    "# Draw bootstrap reps\n",
    "bs_t_reps2 = draw_bs_reps(sample_shifted, t_stat, size=10000)\n",
    "# Compute the p-value\n",
    "p_t_value2 = np.sum(np.abs(bs_t_reps2) >= np.abs(t_obs2)) / len(bs_t_reps2)\n",
    "\n",
    "print('t-statistic for n=10:', t_obs2)\n",
    "print('p-value: {:.2e}'.format(p_t_value2))\n",
    "print('')\n",
    "\n",
    "\n",
    "# Compute z-statistic\n",
    "z_obs2 = z_stat(sample)\n",
    "# Draw bootstrap reps\n",
    "bs_z_reps2 = draw_bs_reps(sample_shifted, z_stat, size=10000)\n",
    "# Compute the p-value\n",
    "p_z_value2 = np.sum(np.abs(bs_z_reps2) >= np.abs(z_obs2)) / len(bs_z_reps2)\n",
    "\n",
    "print('z-statistic for n=10:', z_obs2)\n",
    "print('p-value: {:.2e}'.format(p_z_value2))\n"
   ]
  },
  {
   "cell_type": "markdown",
   "metadata": {},
   "source": [
    "For *n* = 10, we should use the *t*-statistic.\n",
    "\n",
    "We notice that the *p* values differ markedly between the two tests. This re-affirms the point that even though the $t$ and $z$ statistic can both be appropriate for large sample sizes, the only appropriate test for small sample sizes is the $t$-statistic."
   ]
  },
  {
   "cell_type": "markdown",
   "metadata": {},
   "source": [
    "### 5. At what temperature should we consider someone's temperature to be \"abnormal\"?\n",
    "*Start by computing the margin of error and confidence interval.*"
   ]
  },
  {
   "cell_type": "code",
   "execution_count": 12,
   "metadata": {},
   "outputs": [
    {
     "name": "stdout",
     "output_type": "stream",
     "text": [
      "The margin of error on the mean temperature is:  0.125550964803 deg. F\n",
      "95% of the data fall between:  96.7225  -  99.4775 deg. F\n",
      "The 95% prediction interval is:  96.8177295226  -  99.6807320159 deg. F\n"
     ]
    }
   ],
   "source": [
    "# Margin of Error\n",
    "critical_z = 1.96 # z-value corresponding to 95% confidence interval\n",
    "standard_e = s/np.sqrt(n)\n",
    "margin_e = critical_z * standard_e \n",
    "print('The margin of error on the mean temperature is: ', margin_e, 'deg. F')\n",
    "\n",
    "\n",
    "# 95% Confidence Interval on the mean \n",
    "confidence_i = np.percentile(df['temperature'], [2.5, 97.5])\n",
    "print('95% of the data fall between: ', confidence_i[0], ' - ', confidence_i[1], 'deg. F')\n",
    "\n",
    "\n",
    "# 95% Prediction Interval\n",
    "prediction_i = critical_z * s/np.sqrt(1)  \n",
    "print('The 95% prediction interval is: ', x_bar-prediction_i, ' - ', x_bar+prediction_i, 'deg. F')\n"
   ]
  },
  {
   "cell_type": "markdown",
   "metadata": {},
   "source": [
    "We should consider a person's temperature to be abnormal if it falls outside of the 95% prediction interval,  96.8 - 99.7 $^{\\circ}$F"
   ]
  },
  {
   "cell_type": "markdown",
   "metadata": {},
   "source": [
    "### 6. Is there a significant difference between males and females in normal temperature?\n",
    "*What test did you use and why? Write a story with your conclusion in the context of the original problem.*"
   ]
  },
  {
   "cell_type": "code",
   "execution_count": 13,
   "metadata": {},
   "outputs": [
    {
     "name": "stdout",
     "output_type": "stream",
     "text": [
      "FEMALES\n"
     ]
    },
    {
     "data": {
      "text/plain": [
       "count     65.000000\n",
       "mean      98.393846\n",
       "std        0.743488\n",
       "min       96.400000\n",
       "25%       98.000000\n",
       "50%       98.400000\n",
       "75%       98.800000\n",
       "max      100.800000\n",
       "Name: temperature, dtype: float64"
      ]
     },
     "execution_count": 13,
     "metadata": {},
     "output_type": "execute_result"
    },
    {
     "name": "stdout",
     "output_type": "stream",
     "text": [
      "MALES\n"
     ]
    },
    {
     "data": {
      "text/plain": [
       "count    65.000000\n",
       "mean     98.104615\n",
       "std       0.698756\n",
       "min      96.300000\n",
       "25%      97.600000\n",
       "50%      98.100000\n",
       "75%      98.600000\n",
       "max      99.500000\n",
       "Name: temperature, dtype: float64"
      ]
     },
     "execution_count": 13,
     "metadata": {},
     "output_type": "execute_result"
    },
    {
     "data": {
      "image/png": "[encoded data removed]",
      "text/plain": [
       "<matplotlib.figure.Figure at 0x10d77e0f0>"
      ]
     },
     "metadata": {},
     "output_type": "display_data"
    }
   ],
   "source": [
    "# Separate observations by gender\n",
    "females = df[df['gender'] == 'F']\n",
    "males = df[df['gender'] == 'M']\n",
    "\n",
    "# Descriptive statistics \n",
    "print('FEMALES')\n",
    "females['temperature'].describe()\n",
    "print('MALES')\n",
    "males['temperature'].describe()\n",
    "f_mean = np.mean(females['temperature'])\n",
    "m_mean = np.mean(males['temperature'])\n",
    "# print('Mean female temperature: ', f_mean, 'deg. F (n =', len(females), ')')\n",
    "# print('Mean male temperature: ', m_mean, 'deg. F (n =', len(males), ')')\n",
    "\n",
    "\n",
    "# Compute ecdfs\n",
    "x_female, y_female = ecdf(females['temperature'])\n",
    "x_male, y_male = ecdf(males['temperature'])\n",
    "\n",
    "# Examine differences visually\n",
    "fig = plt.figure(figsize=(8, 10))\n",
    "_ = plt.subplot(2,1,1)\n",
    "_ = plt.hist(females['temperature'], bins=15, normed=True, histtype='step')\n",
    "_ = plt.hist(males['temperature'], bins=15, normed=True, histtype='step')\n",
    "_ = plt.xlabel('Temperature ($^\\circ$F)')\n",
    "_ = plt.ylabel('PDF')\n",
    "_ = plt.legend(('females', 'males'))\n",
    "\n",
    "_ = plt.subplot(2,1,2)\n",
    "_ = plt.plot(x_female, y_female, marker='.', linestyle='none')\n",
    "_ = plt.plot(x_male, y_male, marker='.', linestyle='none')\n",
    "_ = plt.ylabel('ECDF')\n",
    "_ = plt.xlabel('Temperature ($^\\circ$F)')\n",
    "_ = plt.legend(('females', 'males'))\n"
   ]
  },
  {
   "cell_type": "markdown",
   "metadata": {},
   "source": [
    "Visual EDA reveals a difference in the distribution of female and male temperatures with female temperatures skewing higher and male temperatures skewing lower. Statistical EDA further bears this out, giving a mean female temperature of 98.4$^{\\circ}$F and a mean male temperature of 98.1$^{\\circ}$F. \n",
    "\n",
    "We will use a permutation test because permutation testing is a good way to simulate the hypothesis that two variables have identical probability distributions. "
   ]
  },
  {
   "cell_type": "code",
   "execution_count": 14,
   "metadata": {},
   "outputs": [
    {
     "name": "stdout",
     "output_type": "stream",
     "text": [
      "observed difference: 0.289230769230727 deg. F\n",
      "p-value: 0.0252\n"
     ]
    }
   ],
   "source": [
    "# Null hypothesis: The distributions of temperatures for males and females are identical.\n",
    "# Define test statistic \n",
    "def diff_of_means(data_1, data_2):\n",
    "    \"\"\"Difference in means of two arrays\"\"\"\n",
    "    return np.mean(data_1) - np.mean(data_2)\n",
    "\n",
    "\n",
    "# Compute test statistic for observed data\n",
    "diff_obs = diff_of_means(females['temperature'], males['temperature'])\n",
    "\n",
    "\n",
    "# Draw permutation replicates\n",
    "perm_replicates = np.empty(10000)\n",
    "for i in range(len(perm_replicates)): \n",
    "    # Permute the data\n",
    "    both = np.concatenate((females['temperature'], males['temperature']))\n",
    "    both_perm = np.random.permutation(both)\n",
    "    perm_females = both_perm[:len(females)]\n",
    "    perm_males = both_perm[len(females):]\n",
    "    #Draw replicates\n",
    "    perm_replicates[i] = diff_of_means(perm_females, perm_males)\n",
    "\n",
    "\n",
    "# Compute the p-value\n",
    "p_value = np.sum(abs(perm_replicates) >= abs(diff_obs)) / len(perm_replicates)\n",
    "\n",
    "print('observed difference:',diff_obs, 'deg. F' )\n",
    "print('p-value:',p_value)\n"
   ]
  },
  {
   "cell_type": "markdown",
   "metadata": {},
   "source": [
    "Since our *p*-value is less than 0.05, we reject the null hypothesis. There is a statistically significant difference between the distribution of male and female temperatures, and hence the normal male and female temperatures are also different by a statistically significant amount. "
   ]
  },
  {
   "cell_type": "markdown",
   "metadata": {},
   "source": [
    "In 1868, Carl Wunderlich reported the normal human body temperature to be 98.6$^{\\circ}$F. This value has been accepted for  more than 120 years. However, our analysis indicates that this value is not statistically accurate. Instead, we find the mean human body temperature to be 98.2 +/- 0.13$^{\\circ}$F (to a 95% confidence interval). Additionally, we discovered a statistically significant difference between male and female temperatures of approximately 0.29$^{\\circ}$F. Females tend to have warmer body temperatures and males tend to have cooler body temperatures."
   ]
  }
 ],
 "metadata": {
  "kernelspec": {
   "display_name": "Python 3",
   "language": "python",
   "name": "python3"
  },
  "language_info": {
   "codemirror_mode": {
    "name": "ipython",
    "version": 3
   },
   "file_extension": ".py",
   "mimetype": "text/x-python",
   "name": "python",
   "nbconvert_exporter": "python",
   "pygments_lexer": "ipython3",
   "version": "3.6.1"
  }
 },
 "nbformat": 4,
 "nbformat_minor": 1
}
